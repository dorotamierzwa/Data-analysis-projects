{
 "cells": [
  {
   "cell_type": "code",
   "execution_count": 91,
   "metadata": {
    "collapsed": true
   },
   "outputs": [],
   "source": [
    "import pandas as pd\n",
    "import numpy as np\n",
    "import matplotlib.pyplot as plt\n",
    "import seaborn as sns\n",
    "import datetime as dt\n",
    "\n",
    "%matplotlib inline\n",
    "sns.set(palette=\"GnBu_d\")"
   ]
  },
  {
   "cell_type": "code",
   "execution_count": 2,
   "metadata": {
    "collapsed": true
   },
   "outputs": [],
   "source": [
    "df_raw = pd.read_csv('avocado.csv')"
   ]
  },
  {
   "cell_type": "code",
   "execution_count": 3,
   "metadata": {
    "collapsed": true
   },
   "outputs": [],
   "source": [
    "df = df_raw.copy()"
   ]
  },
  {
   "cell_type": "code",
   "execution_count": 4,
   "metadata": {
    "collapsed": true
   },
   "outputs": [],
   "source": [
    "df.rename(columns={'4046': 'Hass small', '4225': 'Hass large', '4770': 'Hass Extra Large'}, inplace=True)"
   ]
  },
  {
   "cell_type": "code",
   "execution_count": 5,
   "metadata": {},
   "outputs": [
    {
     "name": "stdout",
     "output_type": "stream",
     "text": [
      "<class 'pandas.core.frame.DataFrame'>\n",
      "RangeIndex: 18249 entries, 0 to 18248\n",
      "Data columns (total 14 columns):\n",
      "Unnamed: 0          18249 non-null int64\n",
      "Date                18249 non-null object\n",
      "AveragePrice        18249 non-null float64\n",
      "Total Volume        18249 non-null float64\n",
      "Hass small          18249 non-null float64\n",
      "Hass large          18249 non-null float64\n",
      "Hass Extra Large    18249 non-null float64\n",
      "Total Bags          18249 non-null float64\n",
      "Small Bags          18249 non-null float64\n",
      "Large Bags          18249 non-null float64\n",
      "XLarge Bags         18249 non-null float64\n",
      "type                18249 non-null object\n",
      "year                18249 non-null int64\n",
      "region              18249 non-null object\n",
      "dtypes: float64(9), int64(2), object(3)\n",
      "memory usage: 1.9+ MB\n"
     ]
    }
   ],
   "source": [
    "df.info()"
   ]
  },
  {
   "cell_type": "code",
   "execution_count": 6,
   "metadata": {
    "collapsed": true
   },
   "outputs": [],
   "source": [
    "df.drop('Unnamed: 0', inplace=True, axis=1)"
   ]
  },
  {
   "cell_type": "code",
   "execution_count": 7,
   "metadata": {
    "collapsed": true
   },
   "outputs": [],
   "source": [
    "df['Date'] = pd.to_datetime(df['Date'])"
   ]
  },
  {
   "cell_type": "code",
   "execution_count": 8,
   "metadata": {},
   "outputs": [
    {
     "data": {
      "text/html": [
       "<div>\n",
       "<style>\n",
       "    .dataframe thead tr:only-child th {\n",
       "        text-align: right;\n",
       "    }\n",
       "\n",
       "    .dataframe thead th {\n",
       "        text-align: left;\n",
       "    }\n",
       "\n",
       "    .dataframe tbody tr th {\n",
       "        vertical-align: top;\n",
       "    }\n",
       "</style>\n",
       "<table border=\"1\" class=\"dataframe\">\n",
       "  <thead>\n",
       "    <tr style=\"text-align: right;\">\n",
       "      <th></th>\n",
       "      <th>Date</th>\n",
       "      <th>AveragePrice</th>\n",
       "      <th>Total Volume</th>\n",
       "      <th>Hass small</th>\n",
       "      <th>Hass large</th>\n",
       "      <th>Hass Extra Large</th>\n",
       "      <th>Total Bags</th>\n",
       "      <th>Small Bags</th>\n",
       "      <th>Large Bags</th>\n",
       "      <th>XLarge Bags</th>\n",
       "      <th>type</th>\n",
       "      <th>year</th>\n",
       "      <th>region</th>\n",
       "    </tr>\n",
       "  </thead>\n",
       "  <tbody>\n",
       "    <tr>\n",
       "      <th>0</th>\n",
       "      <td>2015-12-27</td>\n",
       "      <td>1.33</td>\n",
       "      <td>64236.62</td>\n",
       "      <td>1036.74</td>\n",
       "      <td>54454.85</td>\n",
       "      <td>48.16</td>\n",
       "      <td>8696.87</td>\n",
       "      <td>8603.62</td>\n",
       "      <td>93.25</td>\n",
       "      <td>0.0</td>\n",
       "      <td>conventional</td>\n",
       "      <td>2015</td>\n",
       "      <td>Albany</td>\n",
       "    </tr>\n",
       "    <tr>\n",
       "      <th>1</th>\n",
       "      <td>2015-12-20</td>\n",
       "      <td>1.35</td>\n",
       "      <td>54876.98</td>\n",
       "      <td>674.28</td>\n",
       "      <td>44638.81</td>\n",
       "      <td>58.33</td>\n",
       "      <td>9505.56</td>\n",
       "      <td>9408.07</td>\n",
       "      <td>97.49</td>\n",
       "      <td>0.0</td>\n",
       "      <td>conventional</td>\n",
       "      <td>2015</td>\n",
       "      <td>Albany</td>\n",
       "    </tr>\n",
       "    <tr>\n",
       "      <th>2</th>\n",
       "      <td>2015-12-13</td>\n",
       "      <td>0.93</td>\n",
       "      <td>118220.22</td>\n",
       "      <td>794.70</td>\n",
       "      <td>109149.67</td>\n",
       "      <td>130.50</td>\n",
       "      <td>8145.35</td>\n",
       "      <td>8042.21</td>\n",
       "      <td>103.14</td>\n",
       "      <td>0.0</td>\n",
       "      <td>conventional</td>\n",
       "      <td>2015</td>\n",
       "      <td>Albany</td>\n",
       "    </tr>\n",
       "    <tr>\n",
       "      <th>3</th>\n",
       "      <td>2015-12-06</td>\n",
       "      <td>1.08</td>\n",
       "      <td>78992.15</td>\n",
       "      <td>1132.00</td>\n",
       "      <td>71976.41</td>\n",
       "      <td>72.58</td>\n",
       "      <td>5811.16</td>\n",
       "      <td>5677.40</td>\n",
       "      <td>133.76</td>\n",
       "      <td>0.0</td>\n",
       "      <td>conventional</td>\n",
       "      <td>2015</td>\n",
       "      <td>Albany</td>\n",
       "    </tr>\n",
       "    <tr>\n",
       "      <th>4</th>\n",
       "      <td>2015-11-29</td>\n",
       "      <td>1.28</td>\n",
       "      <td>51039.60</td>\n",
       "      <td>941.48</td>\n",
       "      <td>43838.39</td>\n",
       "      <td>75.78</td>\n",
       "      <td>6183.95</td>\n",
       "      <td>5986.26</td>\n",
       "      <td>197.69</td>\n",
       "      <td>0.0</td>\n",
       "      <td>conventional</td>\n",
       "      <td>2015</td>\n",
       "      <td>Albany</td>\n",
       "    </tr>\n",
       "  </tbody>\n",
       "</table>\n",
       "</div>"
      ],
      "text/plain": [
       "        Date  AveragePrice  Total Volume  Hass small  Hass large  \\\n",
       "0 2015-12-27          1.33      64236.62     1036.74    54454.85   \n",
       "1 2015-12-20          1.35      54876.98      674.28    44638.81   \n",
       "2 2015-12-13          0.93     118220.22      794.70   109149.67   \n",
       "3 2015-12-06          1.08      78992.15     1132.00    71976.41   \n",
       "4 2015-11-29          1.28      51039.60      941.48    43838.39   \n",
       "\n",
       "   Hass Extra Large  Total Bags  Small Bags  Large Bags  XLarge Bags  \\\n",
       "0             48.16     8696.87     8603.62       93.25          0.0   \n",
       "1             58.33     9505.56     9408.07       97.49          0.0   \n",
       "2            130.50     8145.35     8042.21      103.14          0.0   \n",
       "3             72.58     5811.16     5677.40      133.76          0.0   \n",
       "4             75.78     6183.95     5986.26      197.69          0.0   \n",
       "\n",
       "           type  year  region  \n",
       "0  conventional  2015  Albany  \n",
       "1  conventional  2015  Albany  \n",
       "2  conventional  2015  Albany  \n",
       "3  conventional  2015  Albany  \n",
       "4  conventional  2015  Albany  "
      ]
     },
     "execution_count": 8,
     "metadata": {},
     "output_type": "execute_result"
    }
   ],
   "source": [
    "df.head()"
   ]
  },
  {
   "cell_type": "markdown",
   "metadata": {},
   "source": [
    "## Chapter 2 - Distributions"
   ]
  },
  {
   "cell_type": "code",
   "execution_count": 9,
   "metadata": {
    "scrolled": true
   },
   "outputs": [
    {
     "data": {
      "image/png": "[encoded data removed]",
      "text/plain": [
       "<matplotlib.figure.Figure at 0x1a0f7de390>"
      ]
     },
     "metadata": {},
     "output_type": "display_data"
    }
   ],
   "source": [
    "fig, ax = plt.subplots(figsize=(10,5))\n",
    "plt.hist(df['AveragePrice'], bins=50, alpha=0.7)\n",
    "ax.set_ylabel('count')\n",
    "plt.axvline(np.median(df['AveragePrice']), color='white', linestyle=':')\n",
    "plt.title('Histogram of average price', fontsize=16);"
   ]
  },
  {
   "cell_type": "code",
   "execution_count": 10,
   "metadata": {},
   "outputs": [
    {
     "data": {
      "text/plain": [
       "conventional    9126\n",
       "organic         9123\n",
       "Name: type, dtype: int64"
      ]
     },
     "execution_count": 10,
     "metadata": {},
     "output_type": "execute_result"
    }
   ],
   "source": [
    "df.type.value_counts()"
   ]
  },
  {
   "cell_type": "code",
   "execution_count": 11,
   "metadata": {},
   "outputs": [
    {
     "data": {
      "image/png": "[encoded data removed]",
      "text/plain": [
       "<matplotlib.figure.Figure at 0x1a0fbf1550>"
      ]
     },
     "metadata": {},
     "output_type": "display_data"
    }
   ],
   "source": [
    "fig, ax = plt.subplots(figsize=(10,5))\n",
    "plt.hist(df[df['type'] == 'conventional']['AveragePrice'], bins=50, alpha=0.7, label='conventional')\n",
    "plt.hist(df[df['type'] == 'organic']['AveragePrice'], bins=50, alpha=0.7, label='organic')\n",
    "ax.set_ylabel('count')\n",
    "plt.axvline(np.median(df['AveragePrice']), color='white', linestyle=':')\n",
    "plt.title('Histogram of average price by type', fontsize=16)\n",
    "plt.legend(fontsize=13);"
   ]
  },
  {
   "cell_type": "code",
   "execution_count": 12,
   "metadata": {},
   "outputs": [
    {
     "name": "stdout",
     "output_type": "stream",
     "text": [
      "Conventional avocado mean price:  1.1580396668858206\n",
      "Organic avocado mean price:  1.6539986846432082\n",
      "\n",
      "Standard deviation of price for both types of avocado:  0.40267655549555004\n",
      "\n",
      "Effect size as Cohen's d: \n",
      "0.787909256913172\n"
     ]
    }
   ],
   "source": [
    "# Let's calculate effect size\n",
    "print('Conventional avocado mean price: ', df[df['type'] == 'conventional']['AveragePrice'].mean())\n",
    "print('Organic avocado mean price: ', df[df['type'] == 'organic']['AveragePrice'].mean())\n",
    "\n",
    "print('')\n",
    "print('Standard deviation of price for both types of avocado: ', df['AveragePrice'].std())\n",
    "print('')\n",
    "\n",
    "print('Effect size as Cohen\\'s d: ')\n",
    "print((np.sqrt(\n",
    "    (np.power(df[df['type'] == 'conventional']['AveragePrice'].std(), 2) +\\\n",
    "    np.power(df[df['type'] == 'organic']['AveragePrice'].std(), 2)) / 2 \n",
    "    )) /\\\n",
    "      df['AveragePrice'].std())"
   ]
  },
  {
   "cell_type": "markdown",
   "metadata": {},
   "source": [
    "This means the difference in price between types is 0.8 standard deviations, and it is considered quite strong, a difference that should be visible with a naked eye. We can confirm this by looking at histograms."
   ]
  },
  {
   "cell_type": "code",
   "execution_count": 13,
   "metadata": {},
   "outputs": [
    {
     "data": {
      "image/png": "[encoded data removed]",
      "text/plain": [
       "<matplotlib.figure.Figure at 0x1a1826add8>"
      ]
     },
     "metadata": {},
     "output_type": "display_data"
    }
   ],
   "source": [
    "fig, ax = plt.subplots(figsize=(10,5))\n",
    "plt.hist(df['Total Volume'], bins=20, alpha=0.7)\n",
    "ax.set_ylabel('count')\n",
    "plt.axvline(np.median(df['Total Volume']), color='white', linestyle=':')\n",
    "plt.ticklabel_format(style='plain')\n",
    "plt.title('Histogram of total volumes', fontsize=16);"
   ]
  },
  {
   "cell_type": "code",
   "execution_count": 14,
   "metadata": {},
   "outputs": [
    {
     "name": "stdout",
     "output_type": "stream",
     "text": [
      "Average price mean:  1.4059784097758825\n",
      "Average price variance:  0.16214840834576077\n",
      "Average price standard deviation:  0.40267655549555004\n"
     ]
    }
   ],
   "source": [
    "print('Average price mean: ', df['AveragePrice'].mean())\n",
    "print('Average price variance: ', df['AveragePrice'].var())\n",
    "print('Average price standard deviation: ', df['AveragePrice'].std())"
   ]
  },
  {
   "cell_type": "code",
   "execution_count": 15,
   "metadata": {},
   "outputs": [
    {
     "name": "stdout",
     "output_type": "stream",
     "text": [
      "Total Volume mean:  850644.0130089332\n",
      "Total Volume variance:  11926975521801.33\n",
      "Total Volume standard deviation:  3453545.3553994815\n"
     ]
    }
   ],
   "source": [
    "print('Total Volume mean: ', df['Total Volume'].mean())\n",
    "print('Total Volume variance: ', df['Total Volume'].var())\n",
    "print('Total Volume standard deviation: ', df['Total Volume'].std())"
   ]
  },
  {
   "cell_type": "code",
   "execution_count": 16,
   "metadata": {},
   "outputs": [
    {
     "data": {
      "text/plain": [
       "9097    62505646.52\n",
       "8366    61034457.10\n",
       "5506    52288697.89\n",
       "8353    47293921.60\n",
       "5493    46324529.70\n",
       "2699    44655461.51\n",
       "9090    43409835.75\n",
       "9096    43167806.09\n",
       "9099    42939821.55\n",
       "5494    42867608.54\n",
       "8368    42140393.39\n",
       "9091    41386314.12\n",
       "2686    41291704.39\n",
       "8365    41077470.65\n",
       "9093    40741214.05\n",
       "9092    40449603.12\n",
       "5489    40231259.65\n",
       "9098    40171640.84\n",
       "9094    40021528.76\n",
       "5490    40019075.24\n",
       "Name: Total Volume, dtype: float64"
      ]
     },
     "execution_count": 16,
     "metadata": {},
     "output_type": "execute_result"
    }
   ],
   "source": [
    "df['Total Volume'].nlargest(20)"
   ]
  },
  {
   "cell_type": "code",
   "execution_count": 17,
   "metadata": {},
   "outputs": [
    {
     "data": {
      "text/plain": [
       "10381     84.56\n",
       "9437     379.82\n",
       "13189    385.55\n",
       "11698    419.98\n",
       "13193    472.82\n",
       "11697    482.26\n",
       "16201    515.01\n",
       "9426     530.96\n",
       "13190    542.85\n",
       "11719    561.10\n",
       "12133    562.64\n",
       "12201    563.06\n",
       "12132    566.57\n",
       "10396    571.40\n",
       "11693    588.87\n",
       "11725    593.39\n",
       "9410     614.30\n",
       "11723    627.80\n",
       "16207    634.09\n",
       "11687    657.42\n",
       "Name: Total Volume, dtype: float64"
      ]
     },
     "execution_count": 17,
     "metadata": {},
     "output_type": "execute_result"
    }
   ],
   "source": [
    "df['Total Volume'].nsmallest(20)"
   ]
  },
  {
   "cell_type": "markdown",
   "metadata": {},
   "source": [
    "Total Volume values are very broadly distributed and the above histogram is not very informative. We see that there are huge discrepancies, but we have no idea where they come from. Would it make sense to group them by day?"
   ]
  },
  {
   "cell_type": "code",
   "execution_count": 18,
   "metadata": {},
   "outputs": [
    {
     "data": {
      "text/plain": [
       "169"
      ]
     },
     "execution_count": 18,
     "metadata": {},
     "output_type": "execute_result"
    }
   ],
   "source": [
    "len(df.Date.unique())"
   ]
  },
  {
   "cell_type": "markdown",
   "metadata": {},
   "source": [
    "It looks like it would, we have over 18k data points but only 169 days, without knowledge on how it is grouped, we get a histogram that doesn't tell us anything."
   ]
  },
  {
   "cell_type": "code",
   "execution_count": 19,
   "metadata": {},
   "outputs": [
    {
     "data": {
      "image/png": "[encoded data removed]",
      "text/plain": [
       "<matplotlib.figure.Figure at 0x1a0fddc358>"
      ]
     },
     "metadata": {},
     "output_type": "display_data"
    }
   ],
   "source": [
    "fig, ax = plt.subplots(figsize=(10,5))\n",
    "plt.hist(df.groupby('Date').sum()['Total Volume'], alpha=0.7)\n",
    "plt.ticklabel_format(axis='x', style='plain')\n",
    "ax.set_ylabel('count')\n",
    "plt.axvline(np.median(df.groupby('Date').sum()['Total Volume']), color='white', linestyle=':')\n",
    "plt.ticklabel_format(style='plain')\n",
    "plt.title('Daily total volume', fontsize=16);"
   ]
  },
  {
   "cell_type": "markdown",
   "metadata": {},
   "source": [
    "Now this is something we can interpret. Usually we get around 9 mln avocados daily for all types and origins. Right tail is longer, which tells us that there happen some extraordinary days with an overflow of avocados. But when looking at frequency, it's obvious that most days will bring between 7 to 11 mln of items."
   ]
  },
  {
   "cell_type": "markdown",
   "metadata": {},
   "source": [
    "## Chapter 3 - Probability Mass Functions"
   ]
  },
  {
   "cell_type": "markdown",
   "metadata": {},
   "source": [
    "*Another way to represent a distribution is a probability mass function (PMF), which maps from each value to its probability. A probability is a frequency expressed as a fraction of the sample size, n. To get from frequencies to probabilities, we divide through by n, which is called normalization.*\n",
    "\n",
    "*The biggest difference is that a histogram maps from values to integer counters; a PMF maps from values to floating-point probabilities.*"
   ]
  },
  {
   "cell_type": "code",
   "execution_count": 20,
   "metadata": {},
   "outputs": [
    {
     "data": {
      "image/png": "[encoded data removed]",
      "text/plain": [
       "<matplotlib.figure.Figure at 0x1a18273f98>"
      ]
     },
     "metadata": {},
     "output_type": "display_data"
    }
   ],
   "source": [
    "bins = np.arange(df['AveragePrice'].min(), df['AveragePrice'].max(), 0.2)\n",
    "values, base = np.histogram(df['AveragePrice'], bins=bins, density=True)\n",
    "values_unified = values / values.sum()\n",
    "fig, ax = plt.subplots(figsize=(10,5))\n",
    "ax.bar(bins[:-1], values_unified, alpha=0.7, width=0.2)\n",
    "ax.set_ylabel('PMF')\n",
    "plt.axvline(np.median(df['AveragePrice']), color='white', linestyle=':')\n",
    "plt.title('PMF of average price', fontsize=16);"
   ]
  },
  {
   "cell_type": "code",
   "execution_count": 21,
   "metadata": {},
   "outputs": [
    {
     "data": {
      "text/plain": [
       "1.0"
      ]
     },
     "execution_count": 21,
     "metadata": {},
     "output_type": "execute_result"
    }
   ],
   "source": [
    "# probabilities need to sum to 1\n",
    "values_unified.sum()"
   ]
  },
  {
   "cell_type": "code",
   "execution_count": 22,
   "metadata": {
    "collapsed": true
   },
   "outputs": [],
   "source": [
    "# function to get a probability of a single data point\n",
    "def pmf(data, x):\n",
    "    count = sum(data == x)\n",
    "    total_count = count / len(data)\n",
    "    return total_count    "
   ]
  },
  {
   "cell_type": "code",
   "execution_count": 23,
   "metadata": {},
   "outputs": [
    {
     "data": {
      "text/plain": [
       "0.010630719491478985"
      ]
     },
     "execution_count": 23,
     "metadata": {},
     "output_type": "execute_result"
    }
   ],
   "source": [
    "pmf(df['AveragePrice'], 1.08)"
   ]
  },
  {
   "cell_type": "markdown",
   "metadata": {},
   "source": [
    "Doesn't seem right from first look at the above histogram, but note that data there is binned. However probability of taking exactly 1.08 from all prices is much lower. This can be represented on a histogram that plots each data point individually."
   ]
  },
  {
   "cell_type": "code",
   "execution_count": 24,
   "metadata": {},
   "outputs": [
    {
     "data": {
      "image/png": "[encoded data removed]",
      "text/plain": [
       "<matplotlib.figure.Figure at 0x1a183e0668>"
      ]
     },
     "metadata": {},
     "output_type": "display_data"
    }
   ],
   "source": [
    "bins = np.arange(df['AveragePrice'].min(), df['AveragePrice'].max(), 0.01)\n",
    "values, base = np.histogram(df['AveragePrice'], bins=bins, density=True)\n",
    "values_unified = values / values.sum()\n",
    "fig, ax = plt.subplots(figsize=(10,5))\n",
    "ax.bar(bins[:-1], values_unified, alpha=0.7, width=0.01)\n",
    "ax.set_ylabel('PMF')\n",
    "plt.axvline(np.median(df['AveragePrice']), color='white', linestyle=':')\n",
    "plt.title('PMF of average price', fontsize=16);"
   ]
  },
  {
   "cell_type": "code",
   "execution_count": 25,
   "metadata": {},
   "outputs": [
    {
     "data": {
      "text/plain": [
       "194"
      ]
     },
     "execution_count": 25,
     "metadata": {},
     "output_type": "execute_result"
    }
   ],
   "source": [
    "len(df[df['AveragePrice'] == 1.08])"
   ]
  },
  {
   "cell_type": "markdown",
   "metadata": {},
   "source": [
    "Having each value mapped to their probability, we can also calculate mean of the data series..."
   ]
  },
  {
   "cell_type": "code",
   "execution_count": 26,
   "metadata": {
    "collapsed": true
   },
   "outputs": [],
   "source": [
    "results = []\n",
    "for x in df['AveragePrice'].unique():\n",
    "    r = pmf(df['AveragePrice'], x)\n",
    "    results.append(r)"
   ]
  },
  {
   "cell_type": "code",
   "execution_count": 27,
   "metadata": {
    "collapsed": true
   },
   "outputs": [],
   "source": [
    "multiply = np.multiply(df['AveragePrice'].unique(), results)"
   ]
  },
  {
   "cell_type": "code",
   "execution_count": 28,
   "metadata": {},
   "outputs": [
    {
     "data": {
      "text/plain": [
       "1.405978409775878"
      ]
     },
     "execution_count": 28,
     "metadata": {},
     "output_type": "execute_result"
    }
   ],
   "source": [
    "multiply.sum()"
   ]
  },
  {
   "cell_type": "markdown",
   "metadata": {},
   "source": [
    "...and compare it to mean calculated in a standard way."
   ]
  },
  {
   "cell_type": "code",
   "execution_count": 29,
   "metadata": {},
   "outputs": [
    {
     "data": {
      "text/plain": [
       "1.4059784097758825"
      ]
     },
     "execution_count": 29,
     "metadata": {},
     "output_type": "execute_result"
    }
   ],
   "source": [
    "df['AveragePrice'].mean()"
   ]
  },
  {
   "cell_type": "markdown",
   "metadata": {},
   "source": [
    "## Chapter 4 - Cumulative Distribution Functions"
   ]
  },
  {
   "cell_type": "markdown",
   "metadata": {},
   "source": [
    "*PMFs work well if the number of values is small. But as the number of values increases, the probability associated with each value gets smaller and the effect of random noise increases.*\n",
    "\n",
    "Just as in the PMF for Average Price, where each bin corresponds to one value."
   ]
  },
  {
   "cell_type": "markdown",
   "metadata": {},
   "source": [
    "*The CDF is the function that maps from a value to its percentile rank.\n",
    "The CDF is a function of x, where x is any value that might appear in the distribution. To evaluate CDF(x) for a particular value of x, we compute the fraction of values in the distribution less than or equal to x.*"
   ]
  },
  {
   "cell_type": "code",
   "execution_count": 30,
   "metadata": {},
   "outputs": [
    {
     "data": {
      "image/png": "[encoded data removed]",
      "text/plain": [
       "<matplotlib.figure.Figure at 0x1a186637f0>"
      ]
     },
     "metadata": {},
     "output_type": "display_data"
    }
   ],
   "source": [
    "num_bins = 20\n",
    "counts, bin_edges = np.histogram(df['AveragePrice'], bins=num_bins, density=True)\n",
    "cdf = np.cumsum(counts)\n",
    "fig, ax = plt.subplots(figsize=(10,5))\n",
    "plt.plot(bin_edges[1:], cdf/cdf[-1])\n",
    "ax.set_ylabel('cdf')\n",
    "plt.title('CDF of average price', fontsize=16);"
   ]
  },
  {
   "cell_type": "code",
   "execution_count": 31,
   "metadata": {},
   "outputs": [
    {
     "data": {
      "image/png": "[encoded data removed]",
      "text/plain": [
       "<matplotlib.figure.Figure at 0x1a18a1b6a0>"
      ]
     },
     "metadata": {},
     "output_type": "display_data"
    }
   ],
   "source": [
    "num_bins = 20\n",
    "counts, bin_edges = np.histogram(df[df['type'] == 'organic']['AveragePrice'], bins=num_bins, normed=True)\n",
    "cdf = np.cumsum(counts)\n",
    "\n",
    "counts2, bin_edges2 = np.histogram(df[df['type'] == 'conventional']['AveragePrice'], bins=num_bins, normed=True)\n",
    "cdf2= np.cumsum(counts2)\n",
    "\n",
    "fig, ax = plt.subplots(figsize=(10,5))\n",
    "plt.plot(bin_edges[1:], cdf/cdf[-1], label='organic')\n",
    "plt.plot(bin_edges2[1:], cdf2/cdf2[-1], label='conventional')\n",
    "ax.set_ylabel('cdf')\n",
    "plt.title('CDF of average price', fontsize=16)\n",
    "plt.legend(fontsize=13);"
   ]
  },
  {
   "cell_type": "markdown",
   "metadata": {},
   "source": [
    "What this plot tells?\n",
    "\n",
    "* Both lines are not very steep, this means that there isn't a lot of equal values.\n",
    "* 50% of conventional avocados cost less than 1.2 USD, 50% of organic avocados cost less than 1.7 USD.\n",
    "* Organic avocados have larger group of avocados that are more expensive than 90% of avocados of the same type."
   ]
  },
  {
   "cell_type": "markdown",
   "metadata": {},
   "source": [
    "Let's calculate percentiles\n",
    "\n",
    "• Percentile rank - Given a value x, computes its percentile rank, 100 * CDF(x).\n",
    "\n",
    "• Percentile - Given a percentile rank p, computes the corresponding value, x. Equivalent to Value(p/100)."
   ]
  },
  {
   "cell_type": "code",
   "execution_count": 32,
   "metadata": {
    "collapsed": true
   },
   "outputs": [],
   "source": [
    "def percentile_rank(data, x):\n",
    "    count = 0\n",
    "    for val in data:\n",
    "        if val <= x:\n",
    "            count += 1\n",
    "    percentile_rank = 100 * count / len(data)\n",
    "    return percentile_rank"
   ]
  },
  {
   "cell_type": "code",
   "execution_count": 33,
   "metadata": {},
   "outputs": [
    {
     "data": {
      "text/plain": [
       "23.80952380952381"
      ]
     },
     "execution_count": 33,
     "metadata": {},
     "output_type": "execute_result"
    }
   ],
   "source": [
    "percentile_rank(df['AveragePrice'], 1.08)"
   ]
  },
  {
   "cell_type": "code",
   "execution_count": 34,
   "metadata": {},
   "outputs": [
    {
     "data": {
      "text/plain": [
       "1.37"
      ]
     },
     "execution_count": 34,
     "metadata": {},
     "output_type": "execute_result"
    }
   ],
   "source": [
    "df['AveragePrice'].median()"
   ]
  },
  {
   "cell_type": "code",
   "execution_count": 35,
   "metadata": {},
   "outputs": [
    {
     "data": {
      "text/plain": [
       "50.32604526275412"
      ]
     },
     "execution_count": 35,
     "metadata": {},
     "output_type": "execute_result"
    }
   ],
   "source": [
    "percentile_rank(df['AveragePrice'], 1.37)"
   ]
  },
  {
   "cell_type": "code",
   "execution_count": 36,
   "metadata": {
    "collapsed": true
   },
   "outputs": [],
   "source": [
    "def percentile(data, rank):\n",
    "    data = sorted(data)\n",
    "    for val in data:\n",
    "        if percentile_rank(data, val) >= rank:\n",
    "            return val"
   ]
  },
  {
   "cell_type": "code",
   "execution_count": 37,
   "metadata": {},
   "outputs": [
    {
     "data": {
      "text/plain": [
       "1.37"
      ]
     },
     "execution_count": 37,
     "metadata": {},
     "output_type": "execute_result"
    }
   ],
   "source": [
    "percentile(df['AveragePrice'], 50)"
   ]
  },
  {
   "cell_type": "markdown",
   "metadata": {
    "collapsed": true
   },
   "source": [
    "Let's calculate Interquartile Range (IQR) and print 10-quantiles.\n",
    "\n",
    "*Quantile: A sequence of values that correspond to equally spaced per- centile ranks*"
   ]
  },
  {
   "cell_type": "code",
   "execution_count": 38,
   "metadata": {},
   "outputs": [
    {
     "data": {
      "text/plain": [
       "0.5599999999999998"
      ]
     },
     "execution_count": 38,
     "metadata": {},
     "output_type": "execute_result"
    }
   ],
   "source": [
    "# IQR\n",
    "percentile(df['AveragePrice'], 75) - percentile(df['AveragePrice'], 25)"
   ]
  },
  {
   "cell_type": "code",
   "execution_count": 39,
   "metadata": {},
   "outputs": [
    {
     "name": "stdout",
     "output_type": "stream",
     "text": [
      "0-quantile: 0.44\n",
      "10-quantile: 0.93\n",
      "20-quantile: 1.05\n",
      "30-quantile: 1.15\n",
      "40-quantile: 1.26\n",
      "50-quantile: 1.37\n",
      "60-quantile: 1.48\n",
      "70-quantile: 1.6\n",
      "80-quantile: 1.74\n",
      "90-quantile: 1.93\n"
     ]
    }
   ],
   "source": [
    "# quantiles\n",
    "for i in np.arange(0, 100, 10):\n",
    "    print(str(i) + '-quantile: ' + str(percentile(df['AveragePrice'], i)))"
   ]
  },
  {
   "cell_type": "markdown",
   "metadata": {},
   "source": [
    "Plotting a CDF of percentile ranks."
   ]
  },
  {
   "cell_type": "code",
   "execution_count": 40,
   "metadata": {
    "collapsed": true
   },
   "outputs": [],
   "source": [
    "random_vals = sorted(np.random.choice(df['AveragePrice'], size=100, replace=True))"
   ]
  },
  {
   "cell_type": "code",
   "execution_count": 41,
   "metadata": {
    "collapsed": true
   },
   "outputs": [],
   "source": [
    "random_vals_rank = []\n",
    "for val in random_vals:\n",
    "    r = percentile_rank(df['AveragePrice'], val)\n",
    "    random_vals_rank.append(r)"
   ]
  },
  {
   "cell_type": "code",
   "execution_count": 42,
   "metadata": {},
   "outputs": [
    {
     "data": {
      "image/png": "[encoded data removed]",
      "text/plain": [
       "<matplotlib.figure.Figure at 0x1a18a32208>"
      ]
     },
     "metadata": {},
     "output_type": "display_data"
    }
   ],
   "source": [
    "num_bins = 100\n",
    "counts, bin_edges = np.histogram(random_vals_rank, bins=num_bins, density=True)\n",
    "cdf = np.cumsum(counts)\n",
    "fig, ax = plt.subplots(figsize=(10,5))\n",
    "plt.plot(bin_edges[1:], cdf/cdf[-1])\n",
    "ax.set_ylabel('cdf')\n",
    "plt.title('CDF of randomly chosen prices', fontsize=16);"
   ]
  },
  {
   "cell_type": "markdown",
   "metadata": {},
   "source": [
    "## Chapter 5 - Modeling Distributions"
   ]
  },
  {
   "cell_type": "markdown",
   "metadata": {},
   "source": [
    "*The distributions we have used so far are called empirical distributions because they are based on empirical observations, which are necessarily finite samples.\n",
    "The alternative is an analytic distribution, which is characterized by a CDF that is a mathematical function. Analytic distributions can be used to model empirical distributions. In this context, a model is a simplification that leaves out unneeded details.*"
   ]
  },
  {
   "cell_type": "markdown",
   "metadata": {},
   "source": [
    "#### Exponential distribution"
   ]
  },
  {
   "cell_type": "markdown",
   "metadata": {
    "collapsed": true
   },
   "source": [
    "*In the real world, exponential distributions come up when we look at a series of events and measure the times between events, called interarrival times.*"
   ]
  },
  {
   "cell_type": "code",
   "execution_count": 201,
   "metadata": {},
   "outputs": [],
   "source": [
    "df_beer = pd.read_csv('beer_foam.dat.txt', header=None, error_bad_lines=False, sep='\\t')"
   ]
  },
  {
   "cell_type": "code",
   "execution_count": 202,
   "metadata": {},
   "outputs": [
    {
     "data": {
      "text/html": [
       "<div>\n",
       "<style>\n",
       "    .dataframe thead tr:only-child th {\n",
       "        text-align: right;\n",
       "    }\n",
       "\n",
       "    .dataframe thead th {\n",
       "        text-align: left;\n",
       "    }\n",
       "\n",
       "    .dataframe tbody tr th {\n",
       "        vertical-align: top;\n",
       "    }\n",
       "</style>\n",
       "<table border=\"1\" class=\"dataframe\">\n",
       "  <thead>\n",
       "    <tr style=\"text-align: right;\">\n",
       "      <th></th>\n",
       "      <th>0</th>\n",
       "    </tr>\n",
       "  </thead>\n",
       "  <tbody>\n",
       "    <tr>\n",
       "      <th>0</th>\n",
       "      <td>0   17.40    0.60</td>\n",
       "    </tr>\n",
       "    <tr>\n",
       "      <th>1</th>\n",
       "      <td>15   15.10    2.20</td>\n",
       "    </tr>\n",
       "    <tr>\n",
       "      <th>2</th>\n",
       "      <td>30   13.10    3.40</td>\n",
       "    </tr>\n",
       "    <tr>\n",
       "      <th>3</th>\n",
       "      <td>45   11.60    4.15</td>\n",
       "    </tr>\n",
       "    <tr>\n",
       "      <th>4</th>\n",
       "      <td>60   10.60    4.50</td>\n",
       "    </tr>\n",
       "  </tbody>\n",
       "</table>\n",
       "</div>"
      ],
      "text/plain": [
       "                          0\n",
       "0         0   17.40    0.60\n",
       "1        15   15.10    2.20\n",
       "2        30   13.10    3.40\n",
       "3        45   11.60    4.15\n",
       "4        60   10.60    4.50"
      ]
     },
     "execution_count": 202,
     "metadata": {},
     "output_type": "execute_result"
    }
   ],
   "source": [
    "df_beer.head()"
   ]
  },
  {
   "cell_type": "code",
   "execution_count": 203,
   "metadata": {},
   "outputs": [],
   "source": [
    "df_beer['time'] = [x.lstrip().split(' ')[0] for x in df_beer[0]]"
   ]
  },
  {
   "cell_type": "code",
   "execution_count": 204,
   "metadata": {},
   "outputs": [
    {
     "data": {
      "text/html": [
       "<div>\n",
       "<style>\n",
       "    .dataframe thead tr:only-child th {\n",
       "        text-align: right;\n",
       "    }\n",
       "\n",
       "    .dataframe thead th {\n",
       "        text-align: left;\n",
       "    }\n",
       "\n",
       "    .dataframe tbody tr th {\n",
       "        vertical-align: top;\n",
       "    }\n",
       "</style>\n",
       "<table border=\"1\" class=\"dataframe\">\n",
       "  <thead>\n",
       "    <tr style=\"text-align: right;\">\n",
       "      <th></th>\n",
       "      <th>0</th>\n",
       "      <th>time</th>\n",
       "    </tr>\n",
       "  </thead>\n",
       "  <tbody>\n",
       "    <tr>\n",
       "      <th>0</th>\n",
       "      <td>0   17.40    0.60</td>\n",
       "      <td>0</td>\n",
       "    </tr>\n",
       "    <tr>\n",
       "      <th>1</th>\n",
       "      <td>15   15.10    2.20</td>\n",
       "      <td>15</td>\n",
       "    </tr>\n",
       "    <tr>\n",
       "      <th>2</th>\n",
       "      <td>30   13.10    3.40</td>\n",
       "      <td>30</td>\n",
       "    </tr>\n",
       "    <tr>\n",
       "      <th>3</th>\n",
       "      <td>45   11.60    4.15</td>\n",
       "      <td>45</td>\n",
       "    </tr>\n",
       "    <tr>\n",
       "      <th>4</th>\n",
       "      <td>60   10.60    4.50</td>\n",
       "      <td>60</td>\n",
       "    </tr>\n",
       "  </tbody>\n",
       "</table>\n",
       "</div>"
      ],
      "text/plain": [
       "                          0 time\n",
       "0         0   17.40    0.60    0\n",
       "1        15   15.10    2.20   15\n",
       "2        30   13.10    3.40   30\n",
       "3        45   11.60    4.15   45\n",
       "4        60   10.60    4.50   60"
      ]
     },
     "execution_count": 204,
     "metadata": {},
     "output_type": "execute_result"
    }
   ],
   "source": [
    "df_beer.head()"
   ]
  },
  {
   "cell_type": "code",
   "execution_count": 205,
   "metadata": {},
   "outputs": [],
   "source": [
    "df_beer['time'] = df_beer['time'].astype('timedelta64[s]')"
   ]
  },
  {
   "cell_type": "code",
   "execution_count": 206,
   "metadata": {},
   "outputs": [
    {
     "data": {
      "text/html": [
       "<div>\n",
       "<style>\n",
       "    .dataframe thead tr:only-child th {\n",
       "        text-align: right;\n",
       "    }\n",
       "\n",
       "    .dataframe thead th {\n",
       "        text-align: left;\n",
       "    }\n",
       "\n",
       "    .dataframe tbody tr th {\n",
       "        vertical-align: top;\n",
       "    }\n",
       "</style>\n",
       "<table border=\"1\" class=\"dataframe\">\n",
       "  <thead>\n",
       "    <tr style=\"text-align: right;\">\n",
       "      <th></th>\n",
       "      <th>0</th>\n",
       "      <th>time</th>\n",
       "    </tr>\n",
       "  </thead>\n",
       "  <tbody>\n",
       "    <tr>\n",
       "      <th>0</th>\n",
       "      <td>0   17.40    0.60</td>\n",
       "      <td>00:00:00</td>\n",
       "    </tr>\n",
       "    <tr>\n",
       "      <th>1</th>\n",
       "      <td>15   15.10    2.20</td>\n",
       "      <td>00:00:15</td>\n",
       "    </tr>\n",
       "    <tr>\n",
       "      <th>2</th>\n",
       "      <td>30   13.10    3.40</td>\n",
       "      <td>00:00:30</td>\n",
       "    </tr>\n",
       "    <tr>\n",
       "      <th>3</th>\n",
       "      <td>45   11.60    4.15</td>\n",
       "      <td>00:00:45</td>\n",
       "    </tr>\n",
       "    <tr>\n",
       "      <th>4</th>\n",
       "      <td>60   10.60    4.50</td>\n",
       "      <td>00:01:00</td>\n",
       "    </tr>\n",
       "  </tbody>\n",
       "</table>\n",
       "</div>"
      ],
      "text/plain": [
       "                          0     time\n",
       "0         0   17.40    0.60 00:00:00\n",
       "1        15   15.10    2.20 00:00:15\n",
       "2        30   13.10    3.40 00:00:30\n",
       "3        45   11.60    4.15 00:00:45\n",
       "4        60   10.60    4.50 00:01:00"
      ]
     },
     "execution_count": 206,
     "metadata": {},
     "output_type": "execute_result"
    }
   ],
   "source": [
    "df_beer.head()"
   ]
  },
  {
   "cell_type": "code",
   "execution_count": 207,
   "metadata": {},
   "outputs": [],
   "source": [
    "df_beer['time'] = [x.total_seconds() for x in df_beer['time'].diff()]"
   ]
  },
  {
   "cell_type": "code",
   "execution_count": 208,
   "metadata": {},
   "outputs": [
    {
     "data": {
      "text/html": [
       "<div>\n",
       "<style>\n",
       "    .dataframe thead tr:only-child th {\n",
       "        text-align: right;\n",
       "    }\n",
       "\n",
       "    .dataframe thead th {\n",
       "        text-align: left;\n",
       "    }\n",
       "\n",
       "    .dataframe tbody tr th {\n",
       "        vertical-align: top;\n",
       "    }\n",
       "</style>\n",
       "<table border=\"1\" class=\"dataframe\">\n",
       "  <thead>\n",
       "    <tr style=\"text-align: right;\">\n",
       "      <th></th>\n",
       "      <th>0</th>\n",
       "      <th>time</th>\n",
       "    </tr>\n",
       "  </thead>\n",
       "  <tbody>\n",
       "    <tr>\n",
       "      <th>0</th>\n",
       "      <td>0   17.40    0.60</td>\n",
       "      <td>NaN</td>\n",
       "    </tr>\n",
       "    <tr>\n",
       "      <th>1</th>\n",
       "      <td>15   15.10    2.20</td>\n",
       "      <td>1.500000e-08</td>\n",
       "    </tr>\n",
       "    <tr>\n",
       "      <th>2</th>\n",
       "      <td>30   13.10    3.40</td>\n",
       "      <td>1.500000e-08</td>\n",
       "    </tr>\n",
       "    <tr>\n",
       "      <th>3</th>\n",
       "      <td>45   11.60    4.15</td>\n",
       "      <td>1.500000e-08</td>\n",
       "    </tr>\n",
       "    <tr>\n",
       "      <th>4</th>\n",
       "      <td>60   10.60    4.50</td>\n",
       "      <td>1.500000e-08</td>\n",
       "    </tr>\n",
       "  </tbody>\n",
       "</table>\n",
       "</div>"
      ],
      "text/plain": [
       "                          0          time\n",
       "0         0   17.40    0.60           NaN\n",
       "1        15   15.10    2.20  1.500000e-08\n",
       "2        30   13.10    3.40  1.500000e-08\n",
       "3        45   11.60    4.15  1.500000e-08\n",
       "4        60   10.60    4.50  1.500000e-08"
      ]
     },
     "execution_count": 208,
     "metadata": {},
     "output_type": "execute_result"
    }
   ],
   "source": [
    "df_beer.head()"
   ]
  },
  {
   "cell_type": "code",
   "execution_count": 209,
   "metadata": {},
   "outputs": [
    {
     "name": "stdout",
     "output_type": "stream",
     "text": [
      "<class 'pandas.core.frame.DataFrame'>\n",
      "RangeIndex: 13 entries, 0 to 12\n",
      "Data columns (total 2 columns):\n",
      "0       13 non-null object\n",
      "time    12 non-null float64\n",
      "dtypes: float64(1), object(1)\n",
      "memory usage: 288.0+ bytes\n"
     ]
    }
   ],
   "source": [
    "df_beer.info()"
   ]
  },
  {
   "cell_type": "code",
   "execution_count": 124,
   "metadata": {},
   "outputs": [],
   "source": [
    "df_ufo['diffs'] = df_ufo['diffs'].astype('timedelta64[s]')"
   ]
  },
  {
   "cell_type": "code",
   "execution_count": 211,
   "metadata": {},
   "outputs": [
    {
     "data": {
      "image/png": "[encoded data removed]",
      "text/plain": [
       "<matplotlib.figure.Figure at 0x1a18eee400>"
      ]
     },
     "metadata": {},
     "output_type": "display_data"
    }
   ],
   "source": [
    "num_bins = 12\n",
    "counts, bin_edges = np.histogram(df_beer['time'][1:], bins=num_bins, density=True)\n",
    "cdf = np.cumsum(counts)\n",
    "fig, ax = plt.subplots(figsize=(10,5))\n",
    "plt.plot(bin_edges[1:], cdf/cdf[-1])\n",
    "ax.set_ylabel('cdf')\n",
    "plt.title('CDF of UFO encounters', fontsize=16);"
   ]
  },
  {
   "cell_type": "code",
   "execution_count": 212,
   "metadata": {},
   "outputs": [
    {
     "data": {
      "image/png": "[encoded data removed]",
      "text/plain": [
       "<matplotlib.figure.Figure at 0x1a183cc080>"
      ]
     },
     "metadata": {},
     "output_type": "display_data"
    }
   ],
   "source": [
    "num_bins = 12\n",
    "counts, bin_edges = np.histogram(df_beer['time'][1:], bins=num_bins, density=True)\n",
    "cdf = np.cumsum(counts)\n",
    "fig, ax = plt.subplots(figsize=(10,5))\n",
    "x = np.subtract(1, bin_edges[1:])\n",
    "plt.plot(x, cdf/cdf[-1])\n",
    "plt.yscale('log')\n",
    "ax.set_ylabel('cdf')\n",
    "plt.title('1 - CDF of UFO encounters', fontsize=16);"
   ]
  },
  {
   "cell_type": "code",
   "execution_count": 127,
   "metadata": {},
   "outputs": [
    {
     "data": {
      "text/plain": [
       "array([1.35408600e-07, 1.35408600e-07, 1.35408600e-07, 1.35408600e-07,\n",
       "       1.35408600e-07, 1.35408600e-07, 1.83425834e-07, 1.83425834e-07,\n",
       "       1.83425834e-07, 1.83425834e-07, 1.83425834e-07, 1.83425834e-07,\n",
       "       1.89187902e-07, 1.89187902e-07, 1.89187902e-07, 1.89187902e-07,\n",
       "       1.89187902e-07, 1.89187902e-07, 1.89187902e-07, 1.89187902e-07,\n",
       "       1.89187902e-07, 1.89187902e-07, 1.89187902e-07, 1.89187902e-07,\n",
       "       1.89187902e-07, 1.89187902e-07, 1.89187902e-07, 1.89187902e-07,\n",
       "       1.89187902e-07, 1.89187902e-07, 1.90148246e-07, 1.90148246e-07,\n",
       "       1.90148246e-07, 1.90148246e-07, 1.90148246e-07, 1.90148246e-07,\n",
       "       1.90148246e-07, 1.90148246e-07, 1.90148246e-07, 1.90148246e-07,\n",
       "       1.90148246e-07, 1.90148246e-07, 1.91108591e-07, 1.91108591e-07,\n",
       "       1.91108591e-07, 1.91108591e-07, 1.91108591e-07, 1.91108591e-07,\n",
       "       1.91108591e-07, 1.91108591e-07, 1.91108591e-07, 1.91108591e-07,\n",
       "       1.91108591e-07, 1.91108591e-07, 1.91108591e-07, 1.91108591e-07,\n",
       "       1.91108591e-07, 1.91108591e-07, 1.91108591e-07, 1.91108591e-07,\n",
       "       1.91108591e-07, 1.91108591e-07, 1.91108591e-07, 1.91108591e-07,\n",
       "       1.91108591e-07, 1.91108591e-07, 1.91108591e-07, 1.91108591e-07,\n",
       "       1.91108591e-07, 1.91108591e-07, 1.91108591e-07, 1.91108591e-07,\n",
       "       1.91108591e-07, 1.91108591e-07, 1.91108591e-07, 1.91108591e-07,\n",
       "       1.91108591e-07, 1.91108591e-07, 1.91108591e-07, 1.92068936e-07,\n",
       "       1.92068936e-07, 1.92068936e-07, 1.92068936e-07, 1.92068936e-07,\n",
       "       1.92068936e-07, 1.92068936e-07, 1.92068936e-07, 1.92068936e-07,\n",
       "       1.92068936e-07, 1.92068936e-07, 1.92068936e-07, 1.92068936e-07,\n",
       "       1.92068936e-07, 1.92068936e-07, 1.92068936e-07, 1.92068936e-07,\n",
       "       1.92068936e-07, 1.92068936e-07, 1.92068936e-07, 1.92068936e-07,\n",
       "       1.92068936e-07, 1.92068936e-07, 1.92068936e-07, 1.92068936e-07,\n",
       "       1.92068936e-07, 1.92068936e-07, 1.92068936e-07, 1.92068936e-07,\n",
       "       1.92068936e-07, 1.92068936e-07, 1.92068936e-07, 1.92068936e-07,\n",
       "       1.92068936e-07, 1.92068936e-07, 1.92068936e-07, 1.92068936e-07,\n",
       "       1.93029281e-07, 1.93029281e-07, 1.93029281e-07, 1.93029281e-07,\n",
       "       1.93029281e-07, 1.93029281e-07, 1.93029281e-07, 1.93029281e-07,\n",
       "       1.93029281e-07, 1.93029281e-07, 1.93029281e-07, 1.93029281e-07,\n",
       "       1.93029281e-07, 1.93029281e-07, 1.93029281e-07, 1.93029281e-07,\n",
       "       1.93029281e-07, 1.93029281e-07, 1.93029281e-07, 1.93029281e-07,\n",
       "       1.93029281e-07, 1.93029281e-07, 1.93029281e-07, 1.93029281e-07,\n",
       "       1.93029281e-07, 1.93029281e-07, 1.93029281e-07, 1.93029281e-07,\n",
       "       1.93029281e-07, 1.93029281e-07, 1.93029281e-07, 1.93029281e-07,\n",
       "       1.93029281e-07, 1.93029281e-07, 1.93029281e-07, 1.93029281e-07,\n",
       "       1.93029281e-07, 1.93029281e-07, 1.93029281e-07, 1.93029281e-07,\n",
       "       1.93029281e-07, 1.93029281e-07, 1.93029281e-07, 1.93029281e-07,\n",
       "       1.93029281e-07, 1.93029281e-07, 1.93029281e-07, 1.93029281e-07,\n",
       "       1.93029281e-07, 1.93029281e-07, 1.93029281e-07, 1.93029281e-07,\n",
       "       1.93029281e-07, 1.93029281e-07, 1.93029281e-07, 1.93029281e-07,\n",
       "       1.93029281e-07, 1.93029281e-07, 1.93029281e-07, 1.93029281e-07,\n",
       "       1.93029281e-07, 1.93029281e-07, 1.93029281e-07, 1.93029281e-07,\n",
       "       1.93029281e-07, 1.93029281e-07, 1.93029281e-07, 1.93029281e-07,\n",
       "       1.93029281e-07, 1.93029281e-07, 1.93029281e-07, 1.93029281e-07,\n",
       "       1.93029281e-07, 1.93029281e-07, 1.93029281e-07, 1.93029281e-07,\n",
       "       1.93029281e-07, 1.93029281e-07, 1.93029281e-07, 1.93029281e-07,\n",
       "       1.93029281e-07, 1.93029281e-07, 1.93029281e-07, 1.93029281e-07,\n",
       "       1.93029281e-07, 1.93989625e-07])"
      ]
     },
     "execution_count": 127,
     "metadata": {},
     "output_type": "execute_result"
    }
   ],
   "source": [
    "cdf"
   ]
  },
  {
   "cell_type": "code",
   "execution_count": null,
   "metadata": {
    "collapsed": true
   },
   "outputs": [],
   "source": []
  }
 ],
 "metadata": {
  "kernelspec": {
   "display_name": "Python 3",
   "language": "python",
   "name": "python3"
  },
  "language_info": {
   "codemirror_mode": {
    "name": "ipython",
    "version": 3
   },
   "file_extension": ".py",
   "mimetype": "text/x-python",
   "name": "python",
   "nbconvert_exporter": "python",
   "pygments_lexer": "ipython3",
   "version": "3.6.3"
  }
 },
 "nbformat": 4,
 "nbformat_minor": 2
}
